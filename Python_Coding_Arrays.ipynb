{
  "nbformat": 4,
  "nbformat_minor": 0,
  "metadata": {
    "colab": {
      "provenance": [],
      "authorship_tag": "ABX9TyNwTAcc5SsvYnxstN6BQBeE",
      "include_colab_link": true
    },
    "kernelspec": {
      "name": "python3",
      "display_name": "Python 3"
    },
    "language_info": {
      "name": "python"
    }
  },
  "cells": [
    {
      "cell_type": "markdown",
      "metadata": {
        "id": "view-in-github",
        "colab_type": "text"
      },
      "source": [
        "<a href=\"https://colab.research.google.com/github/bhuvana-ak/huggingface_experiments/blob/main/Python_Coding_Arrays.ipynb\" target=\"_parent\"><img src=\"https://colab.research.google.com/assets/colab-badge.svg\" alt=\"Open In Colab\"/></a>"
      ]
    },
    {
      "cell_type": "markdown",
      "source": [
        "DSA Coding Notebook\n",
        "\n",
        "Python\n",
        "Array basics:\n",
        "**What Is an Array in Python?**\n",
        "An array is also a data structure that stores a collection of items. Like lists, arrays are **ordered, mutable, enclosed in square brackets, and able to store non-unique items.**\n",
        "\n",
        "But when it comes to the array's ability to store different data types, the answer is not as straightforward. It depends on the kind of array used.\n",
        "\n",
        "To use arrays in Python, you need to import either an array module or a NumPy package.\n",
        "\n",
        "1.   import array as arr\n",
        "2.   import numpy as np\n",
        "\n",
        "\n",
        "The Python array module requires all array elements to be of the same type. Moreover, to create an array, you'll need to specify a value type. In the code below, the \"i\" signifies that all elements in array_1 are integers:\n",
        "\n",
        "\n",
        "\n",
        "```\n",
        "# This is formatted as code\n",
        "array_1 = arr.array(\"i\", [3, 6, 9, 12])\n",
        "print(array_1)\n",
        "print(type(array_1))\n",
        "```\n",
        "\n",
        "\n",
        "array('i', [3, 6, 9, 12])\n",
        "<class 'array.array'>\n",
        "\n",
        "On the other hand, NumPy arrays support different data types. To create a NumPy array, you only need to specify the items (enclosed in square brackets, of course):\n",
        "```\n",
        "array_2 = np.array([\"numbers\", 3, 6, 9, 12])\n",
        "print (array_2)\n",
        "print(type(array_2))\n",
        "```\n",
        "['numbers' '3' '6' '9' '12']\n",
        "<class 'numpy.ndarray'>\n",
        "As you can see, array_2 contains one item of the string type (i.e., \"numbers\") and four integers."
      ],
      "metadata": {
        "id": "Wfbx4oM4Ne6u"
      }
    },
    {
      "cell_type": "code",
      "source": [
        "!git config --global user.email \"bhuvana.adurkannan@gmail.com\"\n",
        "!git config --global user.name \"bhuvana-ak\""
      ],
      "metadata": {
        "id": "EvTwAjvwnze_"
      },
      "execution_count": 7,
      "outputs": []
    },
    {
      "cell_type": "code",
      "source": [],
      "metadata": {
        "id": "5a5y7IquFwUN"
      },
      "execution_count": 8,
      "outputs": []
    },
    {
      "cell_type": "code",
      "source": [
        "!echo \"code_ws\" >> README.md\n",
        "!git init\n",
        "\n"
      ],
      "metadata": {
        "colab": {
          "base_uri": "https://localhost:8080/"
        },
        "id": "aZbe5PkQnzji",
        "outputId": "373a3c9c-3cac-43c3-ad49-ddfa9b05f9d5"
      },
      "execution_count": 9,
      "outputs": [
        {
          "output_type": "stream",
          "name": "stdout",
          "text": [
            "Reinitialized existing Git repository in /content/.git/\n"
          ]
        }
      ]
    },
    {
      "cell_type": "code",
      "source": [],
      "metadata": {
        "id": "fl4qiKhfNV57"
      },
      "execution_count": null,
      "outputs": []
    },
    {
      "cell_type": "code",
      "source": [
        "!git add README.md\n",
        "!git commit -m \"first commit\"\n",
        "!git branch -M main\n",
        "!git remote add origin https://github.com/bhuvana-ak/code_ws.git\n",
        "!git push -u origin main"
      ],
      "metadata": {
        "id": "w0TZ61_vM8Sn"
      },
      "execution_count": null,
      "outputs": []
    },
    {
      "cell_type": "code",
      "source": [
        "!git push --set-upstream origin main\n",
        "#!git pull origin main"
      ],
      "metadata": {
        "colab": {
          "base_uri": "https://localhost:8080/"
        },
        "id": "Db_mYZZ0o_Z9",
        "outputId": "27d41866-4c2e-4ece-effd-d8b04e5a3011"
      },
      "execution_count": 6,
      "outputs": [
        {
          "output_type": "stream",
          "name": "stdout",
          "text": [
            "fatal: could not read Username for 'https://github.com': No such device or address\n"
          ]
        }
      ]
    },
    {
      "cell_type": "code",
      "execution_count": null,
      "metadata": {
        "colab": {
          "base_uri": "https://localhost:8080/"
        },
        "id": "Q6TJOwRENbP5",
        "outputId": "cc58e259-469e-4270-b4ff-812e60d2f138"
      },
      "outputs": [
        {
          "output_type": "stream",
          "name": "stdout",
          "text": [
            "array('i', [0, 1, 2])\n"
          ]
        }
      ],
      "source": [
        "import array as arr\n",
        "\n",
        "my_arr = arr.array(\"i\",[0,1,2])\n",
        "print(my_arr)"
      ]
    },
    {
      "cell_type": "code",
      "source": [
        "my_arr.append(3)\n",
        "print(my_arr)"
      ],
      "metadata": {
        "colab": {
          "base_uri": "https://localhost:8080/"
        },
        "id": "KxGZsNjyO2dW",
        "outputId": "ffcd9444-7e9b-4239-afee-a2869a1c81aa"
      },
      "execution_count": null,
      "outputs": [
        {
          "output_type": "stream",
          "name": "stdout",
          "text": [
            "array('i', [0, 1, 2, 3])\n"
          ]
        }
      ]
    },
    {
      "cell_type": "code",
      "source": [
        "my_arr.insert(4,4)\n",
        "print(my_arr)"
      ],
      "metadata": {
        "colab": {
          "base_uri": "https://localhost:8080/"
        },
        "id": "ILYOduN-O9Pe",
        "outputId": "04c7b2ab-824f-4470-d76e-03aa314ac040"
      },
      "execution_count": null,
      "outputs": [
        {
          "output_type": "stream",
          "name": "stdout",
          "text": [
            "array('i', [0, 3, 4, 5, 4, 11, 11, 23])\n"
          ]
        }
      ]
    },
    {
      "cell_type": "code",
      "source": [
        "print(my_arr.index(11)) #returns first index for the value, throws error if element not found"
      ],
      "metadata": {
        "colab": {
          "base_uri": "https://localhost:8080/"
        },
        "id": "pP3KQAUMPEwH",
        "outputId": "9cb32d9e-ccd4-499e-8d73-eb312b9b2120"
      },
      "execution_count": null,
      "outputs": [
        {
          "output_type": "stream",
          "name": "stdout",
          "text": [
            "5\n"
          ]
        }
      ]
    },
    {
      "cell_type": "code",
      "source": [
        "print(my_arr.count(11))"
      ],
      "metadata": {
        "colab": {
          "base_uri": "https://localhost:8080/"
        },
        "id": "DKHAW7hhPR1L",
        "outputId": "c027509a-3bac-40b8-dc87-e68a73579dea"
      },
      "execution_count": null,
      "outputs": [
        {
          "output_type": "stream",
          "name": "stdout",
          "text": [
            "2\n"
          ]
        }
      ]
    },
    {
      "cell_type": "code",
      "source": [
        "my_arr.extend([11,23])\n",
        "print(my_arr)"
      ],
      "metadata": {
        "colab": {
          "base_uri": "https://localhost:8080/"
        },
        "id": "OUvazkZMPXYW",
        "outputId": "9e7acd44-fa4e-44fe-e242-dd7d5aae7617"
      },
      "execution_count": null,
      "outputs": [
        {
          "output_type": "stream",
          "name": "stdout",
          "text": [
            "array('i', [0, 3, 4, 5, 11, 11, 23])\n"
          ]
        }
      ]
    },
    {
      "cell_type": "code",
      "source": [],
      "metadata": {
        "id": "3C8_7mxgRz1T"
      },
      "execution_count": null,
      "outputs": []
    },
    {
      "cell_type": "markdown",
      "source": [
        "*pop takes index as input parameter*"
      ],
      "metadata": {
        "id": "RfT8uEHtR0ax"
      }
    },
    {
      "cell_type": "code",
      "source": [
        "my_arr.pop(1)\n",
        "print(my_arr)"
      ],
      "metadata": {
        "colab": {
          "base_uri": "https://localhost:8080/"
        },
        "id": "ULMLptkaPjlG",
        "outputId": "63416e8e-a813-44b1-c1bb-38802b21eb42"
      },
      "execution_count": null,
      "outputs": [
        {
          "output_type": "stream",
          "name": "stdout",
          "text": [
            "array('i', [0, 2, 3, 4, 5])\n"
          ]
        }
      ]
    },
    {
      "cell_type": "markdown",
      "source": [
        "*remove takes value as input parameter*"
      ],
      "metadata": {
        "id": "FFeLh_-2R6q5"
      }
    },
    {
      "cell_type": "code",
      "source": [
        "my_arr.remove(11)\n",
        "print(my_arr)"
      ],
      "metadata": {
        "colab": {
          "base_uri": "https://localhost:8080/",
          "height": 164
        },
        "id": "hVElqCY-PttI",
        "outputId": "0a75fd74-13b9-4d2d-8d13-7d4d7aa96154"
      },
      "execution_count": null,
      "outputs": [
        {
          "output_type": "error",
          "ename": "TypeError",
          "evalue": "array.remove() takes exactly one argument (0 given)",
          "traceback": [
            "\u001b[0;31m---------------------------------------------------------------------------\u001b[0m",
            "\u001b[0;31mTypeError\u001b[0m                                 Traceback (most recent call last)",
            "\u001b[0;32m<ipython-input-26-a992481f2833>\u001b[0m in \u001b[0;36m<cell line: 1>\u001b[0;34m()\u001b[0m\n\u001b[0;32m----> 1\u001b[0;31m \u001b[0mmy_arr\u001b[0m\u001b[0;34m.\u001b[0m\u001b[0mremove\u001b[0m\u001b[0;34m(\u001b[0m\u001b[0;34m)\u001b[0m\u001b[0;34m\u001b[0m\u001b[0;34m\u001b[0m\u001b[0m\n\u001b[0m\u001b[1;32m      2\u001b[0m \u001b[0mprint\u001b[0m\u001b[0;34m(\u001b[0m\u001b[0mmy_arr\u001b[0m\u001b[0;34m)\u001b[0m\u001b[0;34m\u001b[0m\u001b[0;34m\u001b[0m\u001b[0m\n",
            "\u001b[0;31mTypeError\u001b[0m: array.remove() takes exactly one argument (0 given)"
          ]
        }
      ]
    },
    {
      "cell_type": "code",
      "source": [
        "del my_arr[6]\n",
        "print(my_arr)"
      ],
      "metadata": {
        "colab": {
          "base_uri": "https://localhost:8080/"
        },
        "id": "MDy5u6OFReqX",
        "outputId": "f801d25a-4f2f-443f-a93a-ed50724c5bfc"
      },
      "execution_count": null,
      "outputs": [
        {
          "output_type": "stream",
          "name": "stdout",
          "text": [
            "array('i', [0, 1, 2, 3, 4, 5])\n"
          ]
        }
      ]
    },
    {
      "cell_type": "markdown",
      "source": [
        "# Coding questions"
      ],
      "metadata": {
        "id": "x9wi6LM8RIOr"
      }
    },
    {
      "cell_type": "markdown",
      "source": [
        "## Find the Repeated Number in an Array\n",
        "Given an array with elements 1 to n and size n+1. containing 1 duplicate element. Find the duplicate element in the array without modifying the array and using only constant extra space"
      ],
      "metadata": {
        "id": "kNZ86SuwRP1j"
      }
    },
    {
      "cell_type": "code",
      "source": [
        "import array as arr\n",
        "\n",
        "my_arr = arr.array(\"i\",[2,3,4,5,5])"
      ],
      "metadata": {
        "id": "6spt2BfeRNT2"
      },
      "execution_count": null,
      "outputs": []
    },
    {
      "cell_type": "markdown",
      "source": [
        "*Brute force approach*"
      ],
      "metadata": {
        "id": "beV5dw1-ZHr8"
      }
    },
    {
      "cell_type": "code",
      "source": [
        "for i in range(len(my_arr)):\n",
        "  print(\"i\",i,\"my_arr[i]\",my_arr[i])\n",
        "  for j in range(i+1, len(my_arr)):\n",
        "    print(\"i\",i,\"j\",j,\"my_arr[i]\",my_arr[i],\"my_arr[j]\",my_arr[j])\n",
        "    if my_arr[i] == my_arr[j]:\n",
        "      print(\"Duplicate found\",my_arr[i])\n",
        "      break"
      ],
      "metadata": {
        "colab": {
          "base_uri": "https://localhost:8080/"
        },
        "id": "zz_GY8m_ZLKK",
        "outputId": "97a46e9a-61b0-45b9-aee8-4e73b3360177"
      },
      "execution_count": null,
      "outputs": [
        {
          "output_type": "stream",
          "name": "stdout",
          "text": [
            "i 0 my_arr[i] 2\n",
            "i 0 j 1 my_arr[i] 2 my_arr[j] 3\n",
            "i 0 j 2 my_arr[i] 2 my_arr[j] 4\n",
            "i 0 j 3 my_arr[i] 2 my_arr[j] 5\n",
            "i 1 my_arr[i] 3\n",
            "i 1 j 2 my_arr[i] 3 my_arr[j] 4\n",
            "i 1 j 3 my_arr[i] 3 my_arr[j] 5\n",
            "i 2 my_arr[i] 4\n",
            "i 2 j 3 my_arr[i] 4 my_arr[j] 5\n",
            "i 3 my_arr[i] 5\n"
          ]
        }
      ]
    },
    {
      "cell_type": "markdown",
      "source": [
        "Using a set to store duplicate.\n",
        "\n",
        "**Time Complexity:**\n",
        "\n",
        "The loop iterates n times, where n is the length of my_arr.\n",
        "Inside the loop, the in operation for a set has an average time complexity of O(1).\n",
        "Similarly, the add operation for a set also has an average time complexity of O(1).\n",
        "**Therefore, the overall time complexity is dominated by the loop, resulting in O(n).**\n",
        "\n",
        "**Space Complexity:**\n",
        "\n",
        "The set my_set stores unique elements from my_arr. In the worst-case scenario, all elements in my_arr are unique.\n",
        "Hence, the space used by my_set grows linearly with the input size.\n",
        "**Therefore, the space complexity is O(n)**"
      ],
      "metadata": {
        "id": "9eksLWmShPhV"
      }
    },
    {
      "cell_type": "code",
      "source": [
        "my_set = set()\n",
        "for i in range(len(my_arr)):\n",
        "  if my_arr[i] in my_set:\n",
        "    print(\"Duplicate found\",my_arr[i])\n",
        "  else:\n",
        "    my_set.add(my_arr[i])\n"
      ],
      "metadata": {
        "colab": {
          "base_uri": "https://localhost:8080/"
        },
        "id": "h7_0rjulhKIz",
        "outputId": "7c86c935-6aed-4334-f9ef-1e542c586341"
      },
      "execution_count": null,
      "outputs": [
        {
          "output_type": "stream",
          "name": "stdout",
          "text": [
            "Duplicate found 5\n"
          ]
        }
      ]
    },
    {
      "cell_type": "markdown",
      "source": [
        "Approach with modifying array in place.\n",
        "**Time Complexity:**\n",
        "\n",
        "The loop iterates n times, where n is the length of my_arr.\n",
        "All operations inside the loop (index calculation, comparison, assignment) take constant time.\n",
        "**Therefore, the overall time complexity is dominated by the loop, resulting in O(n).**\n",
        "\n",
        "**Space Complexity:**\n",
        "\n",
        "The code modifies the input array my_arr in place.\n",
        "It doesn't use any additional data structures that scale with the input size.\n",
        "**Therefore, the space complexity is constant, denoted as O(1).**"
      ],
      "metadata": {
        "id": "LZHWFfj2ibHv"
      }
    },
    {
      "cell_type": "code",
      "source": [
        "my_arr = arr.array(\"i\",[1,2,3,4,5,6,6])\n",
        "print(my_arr)\n",
        "for i in range(len(my_arr)):\n",
        "  index = abs(my_arr[i])-1\n",
        "  print(\"i\",i,\"index\",index,\"my_arr[index]\",my_arr[index])\n",
        "  if my_arr[index] <0:\n",
        "    print(\"Duplicate found\",abs(my_arr[index]))\n",
        "    break\n",
        "  else:\n",
        "    my_arr[index] = -my_arr[index]"
      ],
      "metadata": {
        "colab": {
          "base_uri": "https://localhost:8080/"
        },
        "id": "i7fANM-yiN7L",
        "outputId": "7154e951-a36f-48a3-8357-75eb3ee940b5"
      },
      "execution_count": null,
      "outputs": [
        {
          "output_type": "stream",
          "name": "stdout",
          "text": [
            "array('i', [1, 2, 3, 4, 5, 6, 6])\n",
            "i 0 index 0 my_arr[index] 1\n",
            "i 1 index 1 my_arr[index] 2\n",
            "i 2 index 2 my_arr[index] 3\n",
            "i 3 index 3 my_arr[index] 4\n",
            "i 4 index 4 my_arr[index] 5\n",
            "i 5 index 5 my_arr[index] 6\n",
            "i 6 index 5 my_arr[index] -6\n",
            "Duplicate found 6\n"
          ]
        }
      ]
    },
    {
      "cell_type": "markdown",
      "source": [
        "Let's assume the array contains value from 1 to n where each number is duplicated except 1.\n",
        "nums = [1,2,3,2,1] find the one number that is not a duplicate.\n",
        "output = 3"
      ],
      "metadata": {
        "id": "6zYNp9DLxS-m"
      }
    },
    {
      "cell_type": "markdown",
      "source": [
        "#Brute force\n"
      ],
      "metadata": {
        "id": "xw87vfLNx1br"
      }
    },
    {
      "cell_type": "code",
      "source": [
        "nums = [1,1,2,2,3,3,4]\n",
        "non_duplicate = -1\n",
        "for i in range(len(nums)):\n",
        "  is_duplicate = False\n",
        "  for j in range(len(nums)):\n",
        "    print(\"i\",i,\"j\",j,\"nums[i]\",nums[i],\"nums[j]\",nums[j])\n",
        "    if i !=j and nums[i] == nums[j]:\n",
        "     is_duplicate = True\n",
        "     break\n",
        "  if not is_duplicate:\n",
        "    print(nums[i])\n",
        "    non_duplicate = nums[i]\n",
        "    break\n",
        "\n",
        "print(\"non_duplicate is \",non_duplicate)\n",
        "\n"
      ],
      "metadata": {
        "colab": {
          "base_uri": "https://localhost:8080/"
        },
        "id": "5HT2aD_GxTYE",
        "outputId": "73531348-0702-4683-e4be-79affb6b4f37"
      },
      "execution_count": null,
      "outputs": [
        {
          "output_type": "stream",
          "name": "stdout",
          "text": [
            "i 0 j 0 nums[i] 1 nums[j] 1\n",
            "i 0 j 1 nums[i] 1 nums[j] 1\n",
            "i 1 j 0 nums[i] 1 nums[j] 1\n",
            "i 2 j 0 nums[i] 2 nums[j] 1\n",
            "i 2 j 1 nums[i] 2 nums[j] 1\n",
            "i 2 j 2 nums[i] 2 nums[j] 2\n",
            "i 2 j 3 nums[i] 2 nums[j] 2\n",
            "i 3 j 0 nums[i] 2 nums[j] 1\n",
            "i 3 j 1 nums[i] 2 nums[j] 1\n",
            "i 3 j 2 nums[i] 2 nums[j] 2\n",
            "i 4 j 0 nums[i] 3 nums[j] 1\n",
            "i 4 j 1 nums[i] 3 nums[j] 1\n",
            "i 4 j 2 nums[i] 3 nums[j] 2\n",
            "i 4 j 3 nums[i] 3 nums[j] 2\n",
            "i 4 j 4 nums[i] 3 nums[j] 3\n",
            "i 4 j 5 nums[i] 3 nums[j] 3\n",
            "i 5 j 0 nums[i] 3 nums[j] 1\n",
            "i 5 j 1 nums[i] 3 nums[j] 1\n",
            "i 5 j 2 nums[i] 3 nums[j] 2\n",
            "i 5 j 3 nums[i] 3 nums[j] 2\n",
            "i 5 j 4 nums[i] 3 nums[j] 3\n",
            "i 6 j 0 nums[i] 4 nums[j] 1\n",
            "i 6 j 1 nums[i] 4 nums[j] 1\n",
            "i 6 j 2 nums[i] 4 nums[j] 2\n",
            "i 6 j 3 nums[i] 4 nums[j] 2\n",
            "i 6 j 4 nums[i] 4 nums[j] 3\n",
            "i 6 j 5 nums[i] 4 nums[j] 3\n",
            "i 6 j 6 nums[i] 4 nums[j] 4\n",
            "4\n",
            "non_duplicate is  4\n"
          ]
        }
      ]
    },
    {
      "cell_type": "markdown",
      "source": [
        "Using set as a solution"
      ],
      "metadata": {
        "id": "Bid6V2fa9Sf3"
      }
    },
    {
      "cell_type": "code",
      "source": [
        "nums = [1,3,2,1,3,4,2]\n",
        "my_set = set()\n",
        "for i in range(len(nums)):\n",
        "  if nums[i] in my_set:\n",
        "    print(\"Duplicate found\",nums[i])\n",
        "    my_set.remove(nums[i])\n",
        "  else:\n",
        "    my_set.add(nums[i])\n",
        "\n",
        "print(\"non_duplicate\",my_set.pop())"
      ],
      "metadata": {
        "colab": {
          "base_uri": "https://localhost:8080/"
        },
        "id": "4ZjW24To9M2K",
        "outputId": "abf2b955-7c2c-488e-a720-3d019d829811"
      },
      "execution_count": null,
      "outputs": [
        {
          "output_type": "stream",
          "name": "stdout",
          "text": [
            "Duplicate found 1\n",
            "Duplicate found 3\n",
            "Duplicate found 2\n",
            "non_duplicate 4\n"
          ]
        }
      ]
    },
    {
      "cell_type": "markdown",
      "source": [
        "math approach"
      ],
      "metadata": {
        "id": "abntoggcAUkm"
      }
    },
    {
      "cell_type": "code",
      "source": [
        "nums = [1,3,2,1,3,4,2]\n",
        "\n",
        "n = (len(nums)+1)/2\n",
        "sum = n *(n+1)\n",
        "print(sum)\n",
        "\n",
        "for i in range(len(nums)):\n",
        "  sum -= nums[i]\n",
        "\n",
        "print(\"non duplicate is : \",sum)"
      ],
      "metadata": {
        "colab": {
          "base_uri": "https://localhost:8080/"
        },
        "id": "njYnCabkAXGC",
        "outputId": "dd434482-3c11-46fa-983e-1c13ea1b2abe"
      },
      "execution_count": null,
      "outputs": [
        {
          "output_type": "stream",
          "name": "stdout",
          "text": [
            "20.0\n",
            "non duplicate is :  4.0\n"
          ]
        }
      ]
    },
    {
      "cell_type": "markdown",
      "source": [
        "inplace array substitution if array is sorted"
      ],
      "metadata": {
        "id": "bt3WRfyUBfUj"
      }
    },
    {
      "cell_type": "code",
      "source": [
        "nums = [1,1,2,2,3]\n",
        "result = 0\n",
        "for i in range(len(nums)):\n",
        "  result ^= nums[i]\n",
        "\n",
        "print(\"Non duplicate\"result)"
      ],
      "metadata": {
        "colab": {
          "base_uri": "https://localhost:8080/"
        },
        "id": "V1Qy7HDdBmzl",
        "outputId": "d7b2b0de-5887-43fe-9215-3f2258062b07"
      },
      "execution_count": null,
      "outputs": [
        {
          "output_type": "stream",
          "name": "stdout",
          "text": [
            "3\n"
          ]
        }
      ]
    },
    {
      "cell_type": "markdown",
      "source": [
        "inplace array substitution is array is unsorted and n is known in advance"
      ],
      "metadata": {
        "id": "mDLx0N5Wbzp-"
      }
    },
    {
      "cell_type": "code",
      "source": [
        "nums = [1,2,3,2,1]\n",
        "n =3\n",
        "count = [0] *n\n",
        "print(count)\n",
        "for i in range(len(nums)):\n",
        "  count[nums[i]-1] +=1\n",
        "\n",
        "print(count)\n",
        "for i in range(len(count)):\n",
        "  if count[i] ==1:\n",
        "    print(\"Non duplicate\",i+1)"
      ],
      "metadata": {
        "colab": {
          "base_uri": "https://localhost:8080/"
        },
        "id": "Dcg2IGhhb3ga",
        "outputId": "6bff7195-1f41-48e1-de53-d9888aa84f97"
      },
      "execution_count": null,
      "outputs": [
        {
          "output_type": "stream",
          "name": "stdout",
          "text": [
            "[0, 0, 0]\n",
            "[2, 2, 1]\n",
            "Non duplicate 3\n"
          ]
        }
      ]
    },
    {
      "cell_type": "markdown",
      "source": [
        "Floyd's cycle-finding algorithm (also known as the \"tortoise and hare\" algorithm) **to work correctly in its standard form, the values in the array should represent indices within the same array, and thus range from 1 to n (or 0 to n-1, depending on indexing convention).**\n",
        "\n",
        "Here's why:\n",
        "\n",
        "**Pointer Movement:** *The algorithm relies on using the array values as pointers to traverse the array. Each value directs you to the next index to visit.*\n",
        "\n",
        "**Cycle Detection:** *A cycle is detected when two pointers (the \"tortoise\" and the \"hare\") meet at the same index. This meeting point indicates a loop within the sequence of indices.*\n",
        "If the values don't correspond to valid indices within the array, the pointers might go out of bounds or fail to detect cycles properly."
      ],
      "metadata": {
        "id": "yFqpE6MBnlMW"
      }
    },
    {
      "cell_type": "markdown",
      "source": [
        "Phase 1: Finding the Meeting Point\n",
        "\n",
        "This phase is about detecting the existence of a cycle. The fast pointer, moving twice as fast, is guaranteed to catch up to the slow pointer if there's a cycle.\n",
        "\n",
        "\n",
        "Phase 2: Finding the Cycle's Entrance\n",
        "\n",
        "Once we know there's a cycle, this phase pinpoints its starting point. The mathematical reasoning behind this phase is a bit involved, but the key idea is that by resetting one pointer and moving both at the same speed, they'll meet at the cycle's entrance."
      ],
      "metadata": {
        "id": "_mdwR5txuwpm"
      }
    },
    {
      "cell_type": "code",
      "source": [
        "my_arr = arr.array(\"i\",[1,3,4,2,4,5])\n",
        "slow = fast = 0\n",
        "\n",
        "#Cycle detection - Check if cycle exists\n",
        "\n",
        "while True:\n",
        "  slow = my_arr[slow]\n",
        "  fast = my_arr[my_arr[fast]]\n",
        "  print(\"slow\",slow,\"fast\",fast)\n",
        "  if slow== fast:\n",
        "    print(\"Cycle detected\", slow, fast)\n",
        "    break\n",
        "\n",
        "while slow !=fast:\n",
        "  slow= my_arr[slow]\n",
        "  fast= my_arr[fast]\n",
        "\n",
        "print(\"Duplicate found\",slow)\n",
        "\n"
      ],
      "metadata": {
        "colab": {
          "base_uri": "https://localhost:8080/"
        },
        "id": "WYk9nJUInvZs",
        "outputId": "88959df3-3f14-4e68-b1b2-01ac7d0db975"
      },
      "execution_count": null,
      "outputs": [
        {
          "output_type": "stream",
          "name": "stdout",
          "text": [
            "slow 1 fast 3\n",
            "slow 3 fast 4\n",
            "slow 2 fast 4\n",
            "slow 4 fast 4\n",
            "Cycle detected 4 4\n",
            "Duplicate found 4\n"
          ]
        }
      ]
    },
    {
      "cell_type": "code",
      "source": [
        "nums = [1,2,2,3,4]\n",
        "s = f = nums[0]\n",
        "while True:\n",
        "  s= nums[s]\n",
        "  f=nums[nums[f]]\n",
        "  if s==f:\n",
        "    break\n",
        "\n",
        "s = nums[0]\n",
        "while s !=f:\n",
        "  s= nums[s]\n",
        "  f=nums[f]\n",
        "\n",
        "print(s)"
      ],
      "metadata": {
        "colab": {
          "base_uri": "https://localhost:8080/"
        },
        "id": "HwGZr40H-xbt",
        "outputId": "5e3723cb-7cae-49ee-f95c-9c08d1aeb34a"
      },
      "execution_count": null,
      "outputs": [
        {
          "output_type": "stream",
          "name": "stdout",
          "text": [
            "2\n"
          ]
        }
      ]
    },
    {
      "cell_type": "markdown",
      "source": [
        "Given a string, find the length of the smallest window that contains every distinct character. Characters may appear more than once in the window.\n",
        "For example, given \"jiujitsu\", you should return 5, corresponding to the final five letters."
      ],
      "metadata": {
        "id": "pb8pi6JmB2gb"
      }
    },
    {
      "cell_type": "code",
      "source": [
        "s ='abcccbab'\n",
        "my_set = set(s)\n",
        "print(my_set,len(my_set))\n",
        "\n",
        "\n",
        "\n",
        "def min_window_brute_force(s):\n",
        "    n = len(s)\n",
        "    min_len = float('inf')\n",
        "\n",
        "    for i in range(n):\n",
        "        for j in range(i + 1, n+1):\n",
        "            print(\"i\",i,\"j\",j,\"min_len\",min_len)\n",
        "            window = s[i:j]\n",
        "            print(\"window\",window)\n",
        "            if len(set(window)) == len(set(s)):  # Check if all distinct chars are present\n",
        "                min_len = min(min_len, len(window))\n",
        "\n",
        "    return min_len if min_len != float('inf') else 0"
      ],
      "metadata": {
        "colab": {
          "base_uri": "https://localhost:8080/"
        },
        "id": "Y7ntokuSB4Hp",
        "outputId": "c3205c82-fa20-41f8-d904-d39ca4ac60e7"
      },
      "execution_count": null,
      "outputs": [
        {
          "output_type": "stream",
          "name": "stdout",
          "text": [
            "{'a', 'b', 'c'} 3\n"
          ]
        }
      ]
    },
    {
      "cell_type": "code",
      "source": [
        "min_window_brute_force(s)"
      ],
      "metadata": {
        "colab": {
          "base_uri": "https://localhost:8080/"
        },
        "id": "VZUwoyrsFC-t",
        "outputId": "4a8593a0-5f38-4933-f81a-ba0ff608a22d"
      },
      "execution_count": null,
      "outputs": [
        {
          "output_type": "stream",
          "name": "stdout",
          "text": [
            "i 0 j 1 min_len inf\n",
            "window a\n",
            "i 0 j 2 min_len inf\n",
            "window ab\n",
            "i 0 j 3 min_len inf\n",
            "window abc\n",
            "i 0 j 4 min_len 3\n",
            "window abcc\n",
            "i 0 j 5 min_len 3\n",
            "window abccc\n",
            "i 0 j 6 min_len 3\n",
            "window abcccb\n",
            "i 0 j 7 min_len 3\n",
            "window abcccba\n",
            "i 0 j 8 min_len 3\n",
            "window abcccbab\n",
            "i 1 j 2 min_len 3\n",
            "window b\n",
            "i 1 j 3 min_len 3\n",
            "window bc\n",
            "i 1 j 4 min_len 3\n",
            "window bcc\n",
            "i 1 j 5 min_len 3\n",
            "window bccc\n",
            "i 1 j 6 min_len 3\n",
            "window bcccb\n",
            "i 1 j 7 min_len 3\n",
            "window bcccba\n",
            "i 1 j 8 min_len 3\n",
            "window bcccbab\n",
            "i 2 j 3 min_len 3\n",
            "window c\n",
            "i 2 j 4 min_len 3\n",
            "window cc\n",
            "i 2 j 5 min_len 3\n",
            "window ccc\n",
            "i 2 j 6 min_len 3\n",
            "window cccb\n",
            "i 2 j 7 min_len 3\n",
            "window cccba\n",
            "i 2 j 8 min_len 3\n",
            "window cccbab\n",
            "i 3 j 4 min_len 3\n",
            "window c\n",
            "i 3 j 5 min_len 3\n",
            "window cc\n",
            "i 3 j 6 min_len 3\n",
            "window ccb\n",
            "i 3 j 7 min_len 3\n",
            "window ccba\n",
            "i 3 j 8 min_len 3\n",
            "window ccbab\n",
            "i 4 j 5 min_len 3\n",
            "window c\n",
            "i 4 j 6 min_len 3\n",
            "window cb\n",
            "i 4 j 7 min_len 3\n",
            "window cba\n",
            "i 4 j 8 min_len 3\n",
            "window cbab\n",
            "i 5 j 6 min_len 3\n",
            "window b\n",
            "i 5 j 7 min_len 3\n",
            "window ba\n",
            "i 5 j 8 min_len 3\n",
            "window bab\n",
            "i 6 j 7 min_len 3\n",
            "window a\n",
            "i 6 j 8 min_len 3\n",
            "window ab\n",
            "i 7 j 8 min_len 3\n",
            "window b\n"
          ]
        },
        {
          "output_type": "execute_result",
          "data": {
            "text/plain": [
              "3"
            ]
          },
          "metadata": {},
          "execution_count": 50
        }
      ]
    },
    {
      "cell_type": "code",
      "source": [
        "s ='abcbabb'\n",
        "min_window_len = float('inf')\n",
        "\n",
        "for i in range(len(s)):\n",
        "  for j in range(i+1,len(s)+1):\n",
        "    window = s[i:j]\n",
        "    print(\"i\",i,\"j\",j,\"window\",window)\n",
        "    if len(set(window)) == len(set(s)):\n",
        "      print(\"window\",window)\n",
        "      min_window_len = min(min_window_len,len(window))\n",
        "\n",
        "print(min_window_len)\n"
      ],
      "metadata": {
        "colab": {
          "base_uri": "https://localhost:8080/"
        },
        "id": "6FfL1ogIMKo7",
        "outputId": "69123980-2322-4b40-c0e4-997d50a04ec6"
      },
      "execution_count": null,
      "outputs": [
        {
          "output_type": "stream",
          "name": "stdout",
          "text": [
            "i 0 j 1 window a\n",
            "i 0 j 2 window ab\n",
            "i 0 j 3 window abc\n",
            "window abc\n",
            "i 0 j 4 window abcb\n",
            "window abcb\n",
            "i 0 j 5 window abcba\n",
            "window abcba\n",
            "i 0 j 6 window abcbab\n",
            "window abcbab\n",
            "i 0 j 7 window abcbabb\n",
            "window abcbabb\n",
            "i 1 j 2 window b\n",
            "i 1 j 3 window bc\n",
            "i 1 j 4 window bcb\n",
            "i 1 j 5 window bcba\n",
            "window bcba\n",
            "i 1 j 6 window bcbab\n",
            "window bcbab\n",
            "i 1 j 7 window bcbabb\n",
            "window bcbabb\n",
            "i 2 j 3 window c\n",
            "i 2 j 4 window cb\n",
            "i 2 j 5 window cba\n",
            "window cba\n",
            "i 2 j 6 window cbab\n",
            "window cbab\n",
            "i 2 j 7 window cbabb\n",
            "window cbabb\n",
            "i 3 j 4 window b\n",
            "i 3 j 5 window ba\n",
            "i 3 j 6 window bab\n",
            "i 3 j 7 window babb\n",
            "i 4 j 5 window a\n",
            "i 4 j 6 window ab\n",
            "i 4 j 7 window abb\n",
            "i 5 j 6 window b\n",
            "i 5 j 7 window bb\n",
            "i 6 j 7 window b\n",
            "3\n"
          ]
        }
      ]
    },
    {
      "cell_type": "code",
      "source": [
        "def min_window_optimal(s):\n",
        "    char_freq = {}\n",
        "    window_start = 0\n",
        "    min_window_len = float('inf')\n",
        "    distinct_count = len(set(s)) # Count of distinct characters in the string\n",
        "\n",
        "    for window_end in range(len(s)):\n",
        "        right_char = s[window_end]\n",
        "        char_freq[right_char] = char_freq.get(right_char, 0) + 1\n",
        "\n",
        "        while len(char_freq) == distinct_count:\n",
        "            min_window_len = min(min_window_len, window_end - window_start + 1)\n",
        "            left_char = s[window_start]\n",
        "            char_freq[left_char] -= 1\n",
        "            if char_freq[left_char] == 0:\n",
        "                del char_freq[left_char]\n",
        "            window_start += 1\n",
        "\n",
        "    return min_window_len if min_window_len != float('inf') else 0"
      ],
      "metadata": {
        "id": "NpMxua8XReay"
      },
      "execution_count": null,
      "outputs": []
    },
    {
      "cell_type": "code",
      "source": [
        "min_window_optimal(s)"
      ],
      "metadata": {
        "colab": {
          "base_uri": "https://localhost:8080/"
        },
        "id": "Ua8thim4Rimm",
        "outputId": "0de01b9b-e181-4d78-faab-22c807017c38"
      },
      "execution_count": null,
      "outputs": [
        {
          "output_type": "execute_result",
          "data": {
            "text/plain": [
              "3"
            ]
          },
          "metadata": {},
          "execution_count": 110
        }
      ]
    },
    {
      "cell_type": "code",
      "source": [
        "def min_window_optimal1(s):\n",
        "   print(s)\n",
        "   char_set = set()\n",
        "   window_start = 0\n",
        "   max_window_len = 0\n",
        "   for window_end in range(len(s)):\n",
        "    print(\"char_set\",char_set)\n",
        "    while(s[window_end] in char_set):\n",
        "      char_set.remove(s[window_start])\n",
        "      window_start +=1\n",
        "    char_set.add(s[window_end])\n",
        "    max_window_len = max(max_window_len, window_end-window_start+1)\n",
        "\n",
        "   return max_window_len\n"
      ],
      "metadata": {
        "id": "e24osmVYRttg"
      },
      "execution_count": null,
      "outputs": []
    },
    {
      "cell_type": "code",
      "source": [
        "print(min_window_optimal1(s))"
      ],
      "metadata": {
        "colab": {
          "base_uri": "https://localhost:8080/"
        },
        "id": "ft6vXkYDSNQv",
        "outputId": "eb112149-c326-4a14-a7ca-01c63d0ac9e1"
      },
      "execution_count": null,
      "outputs": [
        {
          "output_type": "stream",
          "name": "stdout",
          "text": [
            "abcbabb\n",
            "char_set set()\n",
            "char_set {'a'}\n",
            "char_set {'b', 'a'}\n",
            "char_set {'b', 'a', 'c'}\n",
            "char_set {'b', 'c'}\n",
            "char_set {'b', 'a', 'c'}\n",
            "char_set {'a', 'b'}\n",
            "3\n"
          ]
        }
      ]
    },
    {
      "cell_type": "markdown",
      "source": [
        "Move Zeros to End of Array\n",
        "1. Use new array to save non zero array\n",
        "T - O(n)\n",
        "S - O(n)\n",
        "\n",
        "2. sort the array and then split the array.\n",
        "T- nlog(n)\n",
        "S- O(1)\n",
        "But no order is maintained\n",
        "\n",
        "3. nested for loop o(n^2)\n"
      ],
      "metadata": {
        "id": "Y-u6wIcuIsHt"
      }
    },
    {
      "cell_type": "code",
      "source": [
        "nums = [0,1,0,3,2,0,4]\n",
        "for i in range(len(nums)):\n",
        "  for j in range(i+1,len(nums)):\n",
        "    print(\"i\",i,\"j\",j,\"nums[i]\",nums[i],\"nums[j]\",nums[j],\"nums\",nums)\n",
        "    if nums[i] == 0 and nums[j] !=0:\n",
        "      nums[i],nums[j] = nums[j],nums[i]\n",
        "      break\n",
        "print(nums)"
      ],
      "metadata": {
        "colab": {
          "base_uri": "https://localhost:8080/"
        },
        "id": "JjtX-xzyqEn0",
        "outputId": "37d3b2a8-5e04-49aa-ee4a-68eac5adf3f7"
      },
      "execution_count": null,
      "outputs": [
        {
          "output_type": "stream",
          "name": "stdout",
          "text": [
            "i 0 j 1 nums[i] 0 nums[j] 1 nums [0, 1, 0, 3, 2, 0, 4]\n",
            "i 1 j 2 nums[i] 0 nums[j] 0 nums [1, 0, 0, 3, 2, 0, 4]\n",
            "i 1 j 3 nums[i] 0 nums[j] 3 nums [1, 0, 0, 3, 2, 0, 4]\n",
            "i 2 j 3 nums[i] 0 nums[j] 0 nums [1, 3, 0, 0, 2, 0, 4]\n",
            "i 2 j 4 nums[i] 0 nums[j] 2 nums [1, 3, 0, 0, 2, 0, 4]\n",
            "i 3 j 4 nums[i] 0 nums[j] 0 nums [1, 3, 2, 0, 0, 0, 4]\n",
            "i 3 j 5 nums[i] 0 nums[j] 0 nums [1, 3, 2, 0, 0, 0, 4]\n",
            "i 3 j 6 nums[i] 0 nums[j] 4 nums [1, 3, 2, 0, 0, 0, 4]\n",
            "i 4 j 5 nums[i] 0 nums[j] 0 nums [1, 3, 2, 4, 0, 0, 0]\n",
            "i 4 j 6 nums[i] 0 nums[j] 0 nums [1, 3, 2, 4, 0, 0, 0]\n",
            "i 5 j 6 nums[i] 0 nums[j] 0 nums [1, 3, 2, 4, 0, 0, 0]\n",
            "[1, 3, 2, 4, 0, 0, 0]\n"
          ]
        }
      ]
    },
    {
      "cell_type": "markdown",
      "source": [
        "Optimal O(n) solution\n",
        "using 2 pointers - quick sort"
      ],
      "metadata": {
        "id": "YYiWSI0Hwiqg"
      }
    },
    {
      "cell_type": "code",
      "source": [
        "l=0\n",
        "nums = [0,1,0,3,2,0,4,9,0,0,8]\n",
        "for r in range(1,len(nums)):\n",
        "  if nums[l]==0 and nums[r] !=0:\n",
        "    nums[l],nums[r] = nums[r],nums[l]\n",
        "  if nums[l] !=0:\n",
        "    l+=1\n",
        "print(nums)"
      ],
      "metadata": {
        "colab": {
          "base_uri": "https://localhost:8080/"
        },
        "id": "Hd_kwlr_woDl",
        "outputId": "b2bee56c-f056-4195-a92d-4548cac200f8"
      },
      "execution_count": null,
      "outputs": [
        {
          "output_type": "stream",
          "name": "stdout",
          "text": [
            "[1, 3, 2, 4, 9, 8, 0, 0, 0, 0, 0]\n"
          ]
        }
      ]
    },
    {
      "cell_type": "code",
      "source": [
        "l=0\n",
        "nums = [1,0,1,0,3,2,0,4,9,0,0,8]\n",
        "for r in range(0,len(nums)):\n",
        "  if nums[r]:\n",
        "    print(\"l\",l,\"r\",r,\"nums[l]\",nums[l],\"nums[r]\",nums[r],\"nums\",nums)\n",
        "    nums[l],nums[r] = nums[r],nums[l]\n",
        "    l+=1\n",
        "print(nums)"
      ],
      "metadata": {
        "colab": {
          "base_uri": "https://localhost:8080/"
        },
        "id": "wgdl1xCpyDro",
        "outputId": "29fadd02-be25-4e8b-bcd4-ccba7e7ff482"
      },
      "execution_count": null,
      "outputs": [
        {
          "output_type": "stream",
          "name": "stdout",
          "text": [
            "l 0 r 0 nums[l] 1 nums[r] 1 nums [1, 0, 1, 0, 3, 2, 0, 4, 9, 0, 0, 8]\n",
            "l 1 r 2 nums[l] 0 nums[r] 1 nums [1, 0, 1, 0, 3, 2, 0, 4, 9, 0, 0, 8]\n",
            "l 2 r 4 nums[l] 0 nums[r] 3 nums [1, 1, 0, 0, 3, 2, 0, 4, 9, 0, 0, 8]\n",
            "l 3 r 5 nums[l] 0 nums[r] 2 nums [1, 1, 3, 0, 0, 2, 0, 4, 9, 0, 0, 8]\n",
            "l 4 r 7 nums[l] 0 nums[r] 4 nums [1, 1, 3, 2, 0, 0, 0, 4, 9, 0, 0, 8]\n",
            "l 5 r 8 nums[l] 0 nums[r] 9 nums [1, 1, 3, 2, 4, 0, 0, 0, 9, 0, 0, 8]\n",
            "l 6 r 11 nums[l] 0 nums[r] 8 nums [1, 1, 3, 2, 4, 9, 0, 0, 0, 0, 0, 8]\n",
            "[1, 1, 3, 2, 4, 9, 8, 0, 0, 0, 0, 0]\n"
          ]
        }
      ]
    },
    {
      "cell_type": "markdown",
      "source": [
        "My own question:\n",
        " Given an array / list of string with varying length, sort the list by len of string in descending order.\n",
        "\n",
        " 1. brute force o(n^2) solution using nested for loops\n",
        "\n",
        "> Add blockquote\n",
        "\n"
      ],
      "metadata": {
        "id": "tr7lzUDtzTuh"
      }
    },
    {
      "cell_type": "code",
      "source": [
        "s = [\"a\",\"abc\",\"ab\",\"abcd\",\"\"]\n",
        "\n",
        "for i in range(len(s)):\n",
        "  for j in range(i+1,len(s)):\n",
        "    if len(s[i]) < len(s[j]):\n",
        "      s[i], s[j] = s[j], s[i]\n",
        "\n",
        "print(s)"
      ],
      "metadata": {
        "colab": {
          "base_uri": "https://localhost:8080/"
        },
        "id": "S0K0Afg_zQO4",
        "outputId": "d3fa3f34-e25d-4402-f687-5e7374dd512b"
      },
      "execution_count": null,
      "outputs": [
        {
          "output_type": "stream",
          "name": "stdout",
          "text": [
            "['abcd', 'abc', 'ab', 'a', '']\n"
          ]
        }
      ]
    },
    {
      "cell_type": "markdown",
      "source": [
        "2 pointer solution"
      ],
      "metadata": {
        "id": "4Uj_a2N61Rlx"
      }
    },
    {
      "cell_type": "code",
      "source": [
        "s = [\"a\",\"abc\",\"ab\",\"abcd\",\"\"]\n",
        " s1 = []\n",
        "l = 0\n",
        "for r in range(len(s)):\n",
        "  print(\"l\",l,\"r\",r,\"s[l]\",s[l],\"s[r]\",s[r],\"s\",s)\n",
        "  while len(s[l]) < len(s[r]):\n",
        "    s[l],s[r] = s[r],s[l]\n",
        "    l +=1\n",
        "print(s)"
      ],
      "metadata": {
        "colab": {
          "base_uri": "https://localhost:8080/"
        },
        "id": "1aXDGGBo5m5Y",
        "outputId": "d16b62a2-bf68-4b48-e285-7b465e2aef88"
      },
      "execution_count": null,
      "outputs": [
        {
          "output_type": "stream",
          "name": "stdout",
          "text": [
            "l 0 r 0 s[l] a s[r] a s ['a', 'abc', 'ab', 'abcd', '']\n",
            "l 0 r 1 s[l] a s[r] abc s ['a', 'abc', 'ab', 'abcd', '']\n",
            "l 1 r 2 s[l] a s[r] ab s ['abc', 'a', 'ab', 'abcd', '']\n",
            "l 2 r 3 s[l] a s[r] abcd s ['abc', 'ab', 'a', 'abcd', '']\n",
            "l 3 r 4 s[l] a s[r]  s ['abc', 'ab', 'abcd', 'a', '']\n",
            "['abc', 'ab', 'abcd', 'a', '']\n"
          ]
        }
      ]
    },
    {
      "cell_type": "markdown",
      "source": [
        "prodct of all numbers except self"
      ],
      "metadata": {
        "id": "cR6gmlne3yzA"
      }
    },
    {
      "cell_type": "code",
      "source": [
        "nums=[1,2,3,4,5]\n",
        "\n",
        "result = []\n",
        "arr_len = len(nums)\n",
        "pre_array = [1] * arr_len\n",
        "post_array = [1] * arr_len\n",
        "\n",
        "# pre_array = [1,1,1,1]\n",
        "# post_array = [1,1,1,1]\n",
        "\n",
        "for i in range(1, arr_len):\n",
        "  pre_array[i] = pre_array[i-1] * nums[i-1]\n",
        "\n",
        "  #pre_array = [1,2,6,24]\n",
        "\n",
        "for i in range(arr_len-2,-1,-1):\n",
        "  post_array[i] = post_array[i+1] * nums[i+1]\n",
        "\n",
        "    #post_array = [60,20,5,1]\n",
        "print(pre_array)\n",
        "print(post_array)\n",
        "for i in range(arr_len):\n",
        "  result.append(pre_array[i] * post_array[i])\n",
        "\n",
        "print(result)"
      ],
      "metadata": {
        "colab": {
          "base_uri": "https://localhost:8080/"
        },
        "id": "J3awbX0Wti1Q",
        "outputId": "c56471a3-755c-4b12-9d6d-b72e787e0a90"
      },
      "execution_count": null,
      "outputs": [
        {
          "output_type": "stream",
          "name": "stdout",
          "text": [
            "[1, 1, 2, 6, 24]\n",
            "[120, 60, 20, 5, 1]\n",
            "[120, 60, 40, 30, 24]\n"
          ]
        }
      ]
    },
    {
      "cell_type": "markdown",
      "source": [
        "using 1 array and 2 for loops"
      ],
      "metadata": {
        "id": "ScBBXKTzzs5g"
      }
    },
    {
      "cell_type": "code",
      "source": [
        "nums=[2,3,4,5]\n",
        "arr_len = len(nums)\n",
        "result = [1] * arr_len\n",
        "\n",
        "res =1\n",
        "for i in range(arr_len):\n",
        "  result[i] = res\n",
        "  res *= nums[i]\n",
        "\n",
        "res =1\n",
        "for i in range(arr_len-1,-1,-1):\n",
        "  result[i] *= res\n",
        "  res *= nums[i]\n",
        "\n",
        "print(result)"
      ],
      "metadata": {
        "colab": {
          "base_uri": "https://localhost:8080/"
        },
        "id": "tRw7G_h0zvQO",
        "outputId": "e7e2aa47-3232-40f6-b9fd-ba9961445a79"
      },
      "execution_count": null,
      "outputs": [
        {
          "output_type": "stream",
          "name": "stdout",
          "text": [
            "[60, 40, 30, 24]\n"
          ]
        }
      ]
    },
    {
      "cell_type": "markdown",
      "source": [
        "3 sum in an array"
      ],
      "metadata": {
        "id": "iIhLNfPWYRy6"
      }
    },
    {
      "cell_type": "code",
      "source": [
        "nums = [-1,2,3,-1,0,1,-2,-2]\n",
        "arr_len = len(nums)\n",
        "\n",
        "nums.sort()\n",
        "print(nums)\n",
        "target = 0\n",
        "res= []\n",
        "for i in range(arr_len):\n",
        "  l,r= i+1, arr_len-1\n",
        "  if i >0 and nums[i] == nums[i-1]:\n",
        "    continue\n",
        "  while l < r:\n",
        "    a1,a2,a3=nums[i], nums[l],nums[r]\n",
        "    three_sum = a1+a2+a3\n",
        "\n",
        "    if three_sum ==0:\n",
        "      res.append([i,l,r])\n",
        "      l+=1\n",
        "      if nums[l] == nums[l-1] and l < r :\n",
        "        l+=1\n",
        "       # break\n",
        "    elif three_sum < target :\n",
        "        l+=1\n",
        "    elif three_sum > target:\n",
        "        r-=1\n",
        "print(res)\n"
      ],
      "metadata": {
        "colab": {
          "base_uri": "https://localhost:8080/"
        },
        "id": "GUd9ZXg-YUyd",
        "outputId": "66d1bd69-5b11-465d-fa3a-6a05203c5e2f"
      },
      "execution_count": null,
      "outputs": [
        {
          "output_type": "stream",
          "name": "stdout",
          "text": [
            "[-2, -2, -1, -1, 0, 1, 2, 3]\n",
            "[[0, 2, 7], [0, 4, 6], [2, 3, 6], [2, 4, 5]]\n"
          ]
        }
      ]
    },
    {
      "cell_type": "markdown",
      "source": [
        "Given an array nums consisting of only 0s, 1s, and 2s, sort the array in-place.\n",
        "\n",
        "Input: nums = [2, 0, 2, 1, 1, 0]\n",
        "Output: [0, 0, 1, 1, 2, 2]"
      ],
      "metadata": {
        "id": "VSRSWgnkmOPL"
      }
    },
    {
      "cell_type": "code",
      "source": [
        "nums = [2, 0, 2, 1, 1, 0]\n",
        "new_nums = [0]*len(nums)\n",
        "zero_cntr = 0\n",
        "for i in range(len(nums)):\n",
        "  if nums[i] == 0:\n",
        "    new_nums[zero_cntr] = 0\n",
        "    zero_cntr += 1\n",
        "print(zero_cntr)\n",
        "\n",
        "one_cntr = zero_cntr\n",
        "print(\"one_cntr\",one_cntr)\n",
        "\n",
        "for i in range(len(nums)):\n",
        "  if nums[i] == 1:\n",
        "    print(\"nums\",nums[i])\n",
        "    new_nums[one_cntr] = 1\n",
        "    one_cntr +=1\n",
        "print(\"one_cntr---\",one_cntr)\n",
        "\n",
        "two_cntr = one_cntr\n",
        "for i in range(len(nums)):\n",
        "  if nums[i] == 2:\n",
        "    new_nums[two_cntr] = 2\n",
        "    two_cntr +=1\n",
        "\n",
        "print(two_cntr)\n",
        "print(new_nums)\n",
        "\n",
        "# BAD SOLUTION for in place array substitution"
      ],
      "metadata": {
        "id": "VkspVqy5mO_h",
        "colab": {
          "base_uri": "https://localhost:8080/"
        },
        "outputId": "20754514-4fd3-4972-e7e1-56670ce62f41"
      },
      "execution_count": null,
      "outputs": [
        {
          "output_type": "stream",
          "name": "stdout",
          "text": [
            "2\n",
            "one_cntr 2\n",
            "nums 1\n",
            "nums 1\n",
            "one_cntr--- 4\n",
            "6\n",
            "[0, 0, 1, 1, 2, 2]\n"
          ]
        }
      ]
    },
    {
      "cell_type": "code",
      "source": [
        "count_0 = count_1 = count_2 = 0\n",
        "nums = [2,0,0,0,1,1,1,1,2,2]\n",
        "for num in nums:\n",
        "  if num == 0:\n",
        "    count_0 += 1\n",
        "  elif num == 1:\n",
        "    count_1 += 1\n",
        "  else:\n",
        "    count_2 += 1\n",
        "\n",
        "for i in range(count_0):\n",
        "    nums[i] = 0\n",
        "for i in range(count_0, count_0 + count_1):\n",
        "    nums[i] = 1\n",
        "for i in range(count_0 + count_1,len(nums)):\n",
        "    nums[i] = 2\n",
        "\n",
        "print(nums)"
      ],
      "metadata": {
        "colab": {
          "base_uri": "https://localhost:8080/"
        },
        "id": "9nN4GTAz2CaW",
        "outputId": "d325d6d7-65ff-4bae-e442-0c685d886f61"
      },
      "execution_count": null,
      "outputs": [
        {
          "output_type": "stream",
          "name": "stdout",
          "text": [
            "[0, 0, 0, 1, 1, 1, 1, 2, 2, 2]\n"
          ]
        }
      ]
    },
    {
      "cell_type": "code",
      "source": [
        "nums = [2, 0, 2, 1, 1, 0]\n",
        "l,m,h=0,0,len(nums)-1\n",
        "while m <h:\n",
        "  if nums[m] == 0:\n",
        "    nums[l] , nums[m] = nums[m], nums[l]\n",
        "    m+=1\n",
        "    l+=1\n",
        "  elif nums[m] ==1:\n",
        "    m+=1\n",
        "  else:\n",
        "    nums[h], nums[m] = nums[m], nums[h]\n",
        "    h-=1\n",
        "\n",
        "print(nums)"
      ],
      "metadata": {
        "colab": {
          "base_uri": "https://localhost:8080/"
        },
        "id": "dycSo0_5nNdJ",
        "outputId": "649f711f-b44e-4a12-9d89-d34e9c2dd852"
      },
      "execution_count": null,
      "outputs": [
        {
          "output_type": "stream",
          "name": "stdout",
          "text": [
            "[0, 0, 1, 1, 2, 2]\n"
          ]
        }
      ]
    },
    {
      "cell_type": "markdown",
      "source": [
        "Given an integer array nums and an integer k, return the k most frequent elements within the array.\n",
        "\n",
        "The test cases are generated such that the answer is always unique.\n",
        "\n",
        "You may return the output in any order.\n",
        "\n",
        "Example 1:\n",
        "\n",
        "Input: nums = [1,2,2,3,3,3], k = 2\n",
        "\n",
        "Output: [2,3]"
      ],
      "metadata": {
        "id": "a7obdyWYE09o"
      }
    },
    {
      "cell_type": "code",
      "source": [
        "hm = {}\n",
        "nums = [1,2,2,3,3,3,3]\n",
        "for i in range(len(nums)):\n",
        "  a = nums[i]\n",
        "  hm[a] = hm.get(a,0) +1\n",
        "print(hm)\n",
        "sorted_items = sorted(hm.items(), key=lambda item: item[1])\n",
        "print(sorted_items.pop()[1])"
      ],
      "metadata": {
        "colab": {
          "base_uri": "https://localhost:8080/"
        },
        "id": "DCv3fg82E2DV",
        "outputId": "745ae283-88d1-4112-ecb3-6b75ca239911"
      },
      "execution_count": null,
      "outputs": [
        {
          "output_type": "stream",
          "name": "stdout",
          "text": [
            "{1: 1, 2: 2, 3: 4}\n",
            "4\n"
          ]
        }
      ]
    },
    {
      "cell_type": "code",
      "source": [
        "filtered_items = dict(filter(lambda x : x[0]==1, hm.items()))\n",
        "print(filtered_items)"
      ],
      "metadata": {
        "colab": {
          "base_uri": "https://localhost:8080/"
        },
        "id": "3HaK-CJ5O8OI",
        "outputId": "e27074b6-f831-423b-a760-cc70c07e4d2f"
      },
      "execution_count": null,
      "outputs": [
        {
          "output_type": "stream",
          "name": "stdout",
          "text": [
            "{1: 1}\n"
          ]
        }
      ]
    },
    {
      "cell_type": "markdown",
      "source": [],
      "metadata": {
        "id": "AjBUXhipXd2J"
      }
    },
    {
      "cell_type": "code",
      "source": [
        "new_hm = {key :x*x for key,x in hm.items()}\n",
        "print(new_hm)"
      ],
      "metadata": {
        "colab": {
          "base_uri": "https://localhost:8080/"
        },
        "id": "8fmXYQHoXfUf",
        "outputId": "f668dd26-d66e-462e-f388-2859317653cc"
      },
      "execution_count": null,
      "outputs": [
        {
          "output_type": "stream",
          "name": "stdout",
          "text": [
            "{1: 1, 2: 4, 3: 16}\n"
          ]
        }
      ]
    },
    {
      "cell_type": "code",
      "source": [],
      "metadata": {
        "id": "1BkJOAZZeaMw"
      },
      "execution_count": null,
      "outputs": []
    },
    {
      "cell_type": "code",
      "source": [],
      "metadata": {
        "id": "SvenLDLkexCD"
      },
      "execution_count": null,
      "outputs": []
    },
    {
      "cell_type": "code",
      "source": [
        "import heapq\n",
        "k=2\n",
        "nums = [1,2,2,3,3,3,3]\n",
        "negated_data = [-x for x in nums]  # Negate values\n",
        "heapq.heapify(negated_data)\n",
        "arr_len = len(nums)\n",
        "for i in range(k):\n",
        "  heap= heapq.heappop(negated_data)\n",
        "  print(heap)\n",
        "\n"
      ],
      "metadata": {
        "colab": {
          "base_uri": "https://localhost:8080/"
        },
        "id": "D8yWV66lcKZU",
        "outputId": "34dc968b-6333-4fbd-a0e3-83f5f5442ef1"
      },
      "execution_count": null,
      "outputs": [
        {
          "output_type": "stream",
          "name": "stdout",
          "text": [
            "-3\n",
            "-3\n"
          ]
        }
      ]
    },
    {
      "cell_type": "markdown",
      "source": [
        "Bucket sort"
      ],
      "metadata": {
        "id": "fwDNWxL5jBAA"
      }
    },
    {
      "cell_type": "code",
      "source": [
        "nums = [1,1,2,2,3,3,3,3]\n",
        "top_k = 2\n",
        "counter = {}\n",
        "freq = [[] for i in range(len(nums))]\n",
        "print(freq)\n",
        "for i in range(len(nums)):\n",
        "  counter[nums[i]] = counter.get(nums[i],0)+1\n",
        "\n",
        "print(counter)\n",
        "\n",
        "for k,v in counter.items():\n",
        "  print(k,v)\n",
        "  freq[v].append(k)\n",
        "\n",
        "print(freq)\n",
        "res = []\n",
        "for val in range(len(freq)-1,0,-1):\n",
        "  if top_k ==0:\n",
        "    break\n",
        "  if freq[val]:\n",
        "    res.append(freq[val])\n",
        "    print(freq[val])\n",
        "    top_k -=1\n",
        "\n",
        "print(res)\n",
        "print(\"freq\",freq)\n",
        "top_k = 2\n",
        "res= []\n",
        "for val in range(len(freq)-1,0,-1):\n",
        "    print(\"val\",val,\"f[val]\",freq[val])\n",
        "    if freq[val]:\n",
        "     res.append(freq[val])\n",
        "    if len(res) == top_k:\n",
        "      break\n",
        "\n",
        "print(\"res\",res)"
      ],
      "metadata": {
        "colab": {
          "base_uri": "https://localhost:8080/"
        },
        "id": "PCBmKjKGjCWM",
        "outputId": "8952cbca-4b72-4ded-d477-52a05552befb"
      },
      "execution_count": null,
      "outputs": [
        {
          "output_type": "stream",
          "name": "stdout",
          "text": [
            "[[], [], [], [], [], [], [], []]\n",
            "{1: 2, 2: 2, 3: 4}\n",
            "1 2\n",
            "2 2\n",
            "3 4\n",
            "[[], [], [1, 2], [], [3], [], [], []]\n",
            "[3]\n",
            "[1, 2]\n",
            "[[3], [1, 2]]\n",
            "freq [[], [], [1, 2], [], [3], [], [], []]\n",
            "val 7 f[val] []\n",
            "val 6 f[val] []\n",
            "val 5 f[val] []\n",
            "val 4 f[val] [3]\n",
            "val 3 f[val] []\n",
            "val 2 f[val] [1, 2]\n",
            "res [[3], [1, 2]]\n"
          ]
        }
      ]
    },
    {
      "cell_type": "markdown",
      "source": [
        "Design an algorithm to encode a list of strings to a single string. The encoded string is then decoded back to the original list of strings.\n",
        "\n",
        "Please implement encode and decode"
      ],
      "metadata": {
        "id": "cr20Trmfp6bh"
      }
    },
    {
      "cell_type": "code",
      "source": [
        "input = [\"I\",\"got\",\"t#is!\"]\n",
        "def get_len(i):\n",
        "  return str(len(i))\n",
        "def encode():\n",
        "  s = \"\"\n",
        "  for i in input:\n",
        "    s += get_len(i)+\"#\"+i\n",
        "  return s\n",
        "encode()\n",
        "\n",
        "\n",
        "def decode(input):\n",
        "  output = []\n",
        "  i = 0\n",
        "  while i < len(input):\n",
        "    j =i\n",
        "    while input[j] != '#':\n",
        "      j+=1\n",
        "    length = int(input[i:j])\n",
        "    output.append(input[j+1:j+1+length])\n",
        "    i = j+1+length\n",
        "  print(output)\n",
        "decode(encode())"
      ],
      "metadata": {
        "colab": {
          "base_uri": "https://localhost:8080/"
        },
        "id": "e8dU8V6Fr9Au",
        "outputId": "4747b82d-2053-45dd-fdd8-c275be37d568"
      },
      "execution_count": null,
      "outputs": [
        {
          "output_type": "stream",
          "name": "stdout",
          "text": [
            "['I', 'got', 't#is!']\n"
          ]
        }
      ]
    },
    {
      "cell_type": "markdown",
      "source": [
        "Given an array of strings strs, group all anagrams together into sublists. You may return the output in any order.\n",
        "\n",
        "An anagram is a string that contains the exact same characters as another string, but the order of the characters can be different.\n",
        "\n",
        "Example 1:\n",
        "\n",
        "Input: strs = [\"act\",\"pots\",\"tops\",\"cat\",\"stop\",\"hat\"]\n",
        "\n",
        "Output: [[\"hat\"],[\"act\", \"cat\"],[\"stop\", \"pots\", \"tops\"]]"
      ],
      "metadata": {
        "id": "T5VqKtFU0lfq"
      }
    },
    {
      "cell_type": "code",
      "source": [
        "strs = [\"act\",\"pots\",\"tops\",\"cat\",\"stop\",\"hat\"]\n",
        "ouput = []\n",
        "for i in range(len(strs)):\n",
        "  j = i+1\n",
        "  res_i= {}\n",
        "  for s in strs[i]:\n",
        "    res_i[s] = res_i.get(s,0)+1\n",
        "  print(\"res_i\",res_i)\n",
        "  while j < len(strs):\n",
        "    res_j= {}\n",
        "    if len(strs[i]) != len(strs[j]):\n",
        "      j +=1\n",
        "      continue\n",
        "    else:\n",
        "      for s in strs[j]:\n",
        "        res_j[s] = res_j.get(s,0)+1\n",
        "      print(\"res_j\",res_j)\n",
        "      if res_j == res_i:\n",
        "        print(\"both dictionary are same\")\n",
        "        ouput.append([strs[i],strs[j]])\n",
        "      j +=1\n",
        "print(ouput)\n"
      ],
      "metadata": {
        "colab": {
          "base_uri": "https://localhost:8080/"
        },
        "id": "OV0p5aIh0mmz",
        "outputId": "6e8da6a9-c866-443e-c8ab-da14d959f415"
      },
      "execution_count": null,
      "outputs": [
        {
          "output_type": "stream",
          "name": "stdout",
          "text": [
            "res_i {'a': 1, 'c': 1, 't': 1}\n",
            "res_j {'c': 1, 'a': 1, 't': 1}\n",
            "both dictionary are same\n",
            "res_j {'h': 1, 'a': 1, 't': 1}\n",
            "res_i {'p': 1, 'o': 1, 't': 1, 's': 1}\n",
            "res_j {'t': 1, 'o': 1, 'p': 1, 's': 1}\n",
            "both dictionary are same\n",
            "res_j {'s': 1, 't': 1, 'o': 1, 'p': 1}\n",
            "both dictionary are same\n",
            "res_i {'t': 1, 'o': 1, 'p': 1, 's': 1}\n",
            "res_j {'s': 1, 't': 1, 'o': 1, 'p': 1}\n",
            "both dictionary are same\n",
            "res_i {'c': 1, 'a': 1, 't': 1}\n",
            "res_j {'h': 1, 'a': 1, 't': 1}\n",
            "res_i {'s': 1, 't': 1, 'o': 1, 'p': 1}\n",
            "res_i {'h': 1, 'a': 1, 't': 1}\n",
            "[['act', 'cat'], ['pots', 'tops'], ['pots', 'stop'], ['tops', 'stop']]\n"
          ]
        }
      ]
    },
    {
      "cell_type": "markdown",
      "source": [
        "You are given a large web server log file where each line represents a single HTTP request. Each line contains fields such as timestamp, client IP address, requested URL, HTTP status code, and response time.\n",
        "\n",
        "Design an algorithm to identify the top 10 most frequently requested URLs within a specific time window (e.g., the last hour). How would you handle the scenario where the log file is too large to fit into memory?\n",
        "\n",
        "#Log file\n",
        "2023-08-20 14:32:15 192.168.1.10 /index.html 200 120\n",
        "2023-08-20 14:32:20 10.0.0.5 /products/item1.html 200 85\n",
        "2023-08-20 14:32:35 192.168.1.10 /about.html 200 90\n",
        "2023-08-20 14:32:40 172.16.0.20 /contact.html 404 50\n",
        "2023-08-20 14:32:48 192.168.1.10 /index.html 200 115\n",
        "2023-08-20 14:33:00 10.0.0.5 /products/item2.html 200 78\n"
      ],
      "metadata": {
        "id": "24m8HWd4GiuE"
      }
    },
    {
      "cell_type": "code",
      "source": [
        "# a function to process the file line by line and get the IP address and time (ensure mal formed lines are handled)\n",
        "# process line only if time is within the 1 hour window\n",
        "# as each Ip address is extracted add them to hashmap and increment the count\n",
        "# The result from this is a hashmap with key =ip and value = count\n",
        "\n",
        "\n",
        "# write another function that can iterate through this hashmap with keys and values.\n",
        "#  create an list of size 10.\n",
        "    # get the k,v from hashmap\n",
        "\n",
        "    # check if there is a value in the index 0 if not add a tuple of (count ie v, ip ie k)\n",
        "    # if value already exist, extract the tuple and get the count and compare against the value in hashmap.\n",
        "        #if existing value is > hashmap value, replace value at given index with hashmap value and move the existing value in index to next position\n",
        "\n",
        "# iterating through entire hashmap is not scalable solution as the number of lines increase with unique urls, adding these to hashmap and then iterating through hashmap wont be scalable"
      ],
      "metadata": {
        "id": "fv5A6T-gINcF"
      },
      "execution_count": null,
      "outputs": []
    },
    {
      "cell_type": "code",
      "source": [
        "import heapq\n",
        "from datetime import datetime, timedelta\n",
        "\n",
        "def top_n_urls(log_file_path, time_window_hours=1, n=1):\n",
        "    \"\"\"\n",
        "    Identifies the top 10 most frequently requested URLs within a specific time window.\n",
        "\n",
        "    Args:\n",
        "        log_file_path: Path to the log file.\n",
        "        time_window_hours: The time window in hours (default is 1 hour).\n",
        "\n",
        "    Returns:\n",
        "        A list of the top 10 URLs and their counts.\n",
        "    \"\"\"\n",
        "\n",
        "    url_counts = {}  # Hashmap to store URL counts\n",
        "    min_heap = []  # Min-heap to maintain the top 10 URLs\n",
        "    url_to_heap_index = {}  # Map to track URL positions in the heap\n",
        "    end_time =datetime(2023,8,20,15,00,15) #datetime.now()\n",
        "    start_time = end_time - timedelta(hours=time_window_hours)\n",
        "\n",
        "    with open(log_file_path, 'r') as log_file:\n",
        "        for line in log_file:\n",
        "            try:\n",
        "                timestamp_dt, timestamp_time, ip,url, _ = line.split(maxsplit=4)\n",
        "\n",
        "                timestamp = datetime.strptime(timestamp_dt+\" \"+timestamp_time, '%Y-%m-%d %H:%M:%S')\n",
        "                if start_time <= timestamp <= end_time:\n",
        "                    url_counts[url] = url_counts.get(url, 0) + 1\n",
        "                    print(\"min heap len? - n\",len(min_heap),n,url)\n",
        "                    if url in url_to_heap_index:\n",
        "                        print(\"url in url_to_heap_index\",url,url_counts[url])\n",
        "                        # URL already in heap, update its count and reposition in heap\n",
        "                        index = url_to_heap_index[url]\n",
        "                        print(\"min_heap[index]\",index,min_heap[index])\n",
        "                        min_heap[index] = (url_counts[url], url)\n",
        "                        #heapq._siftdown(min_heap, 0, index)  # Restore heap property\n",
        "                        heapq.heapify(min_heap)\n",
        "                        print(heapq.nlargest(n, min_heap))\n",
        "                    elif len(min_heap) < n:\n",
        "                        # Heap not full, add new URL\n",
        "                        heapq.heappush(min_heap, (url_counts[url], url))\n",
        "                        url_to_heap_index[url] = len(min_heap) - 1\n",
        "                    elif url_counts[url] > min_heap[0][0]:\n",
        "                        # Replace root if new URL has higher count\n",
        "                        _, old_url = heapq.heapreplace(min_heap, (url_counts[url], url))\n",
        "                        del url_to_heap_index[old_url]\n",
        "                        url_to_heap_index[url] = 0\n",
        "\n",
        "            except ValueError:\n",
        "                # Handle malformed lines gracefully (e.g., log or skip)\n",
        "                pass\n",
        "            except Exception as e:\n",
        "                print(\"Error while file processing\",e)\n",
        "    print(\"url_counts: \",url_counts,min_heap)\n",
        "    print(\"min_heap\",min_heap)\n",
        "    top_n_urls = [(url, count) for count, url in heapq.nlargest(n, min_heap)]\n",
        "    return top_n_urls\n",
        "\n",
        "# Example usage:\n",
        "log_file_path = 'my_log_file.txt'\n",
        "top_urls = top_n_urls(log_file_path,n=2)\n",
        "print(\"top_urls-\",top_urls)"
      ],
      "metadata": {
        "colab": {
          "base_uri": "https://localhost:8080/"
        },
        "id": "Kzjn4bsxY0j7",
        "outputId": "77b7e5ca-b4cc-4948-9c98-68a83bb9cb36"
      },
      "execution_count": null,
      "outputs": [
        {
          "output_type": "stream",
          "name": "stdout",
          "text": [
            "min heap len? - n 0 2 /index.html\n",
            "min heap len? - n 1 2 /products/item1.html\n",
            "min heap len? - n 2 2 /about.html\n",
            "min heap len? - n 2 2 /contact.html\n",
            "min heap len? - n 2 2 /index.html\n",
            "url in url_to_heap_index /index.html 2\n",
            "min_heap[index] 0 (1, '/index.html')\n",
            "[(2, '/index.html'), (1, '/products/item1.html')]\n",
            "min heap len? - n 2 2 /products/item2.html\n",
            "min heap len? - n 2 2 /index.html\n",
            "url in url_to_heap_index /index.html 3\n",
            "min_heap[index] 0 (1, '/products/item1.html')\n",
            "[(3, '/index.html'), (2, '/index.html')]\n",
            "min heap len? - n 2 2 /products/item1.html\n",
            "url in url_to_heap_index /products/item1.html 2\n",
            "min_heap[index] 1 (3, '/index.html')\n",
            "[(2, '/products/item1.html'), (2, '/index.html')]\n",
            "min heap len? - n 2 2 /about.html\n",
            "min heap len? - n 2 2 /contact.html\n",
            "min heap len? - n 2 2 /index.html\n",
            "url in url_to_heap_index /index.html 4\n",
            "min_heap[index] 0 (2, '/index.html')\n",
            "[(4, '/index.html'), (2, '/products/item1.html')]\n",
            "min heap len? - n 2 2 /products/item2.html\n",
            "url_counts:  {'/index.html': 4, '/products/item1.html': 2, '/about.html': 2, '/contact.html': 2, '/products/item2.html': 2} [(2, '/products/item1.html'), (4, '/index.html')]\n",
            "min_heap [(2, '/products/item1.html'), (4, '/index.html')]\n",
            "top_urls- [('/index.html', 4), ('/products/item1.html', 2)]\n"
          ]
        }
      ]
    },
    {
      "cell_type": "markdown",
      "source": [
        "You are given a list of tasks where each task is represented by a tuple (task_id, priority, duration).  The task_id is a unique identifier, priority is an integer representing the task's importance (higher value indicates higher priority), and duration is an integer representing the time required to complete the task.\n",
        "\n",
        "Implement a function schedule_tasks(tasks) that returns the order in which the tasks should be executed to minimize the total waiting time. The total waiting time is calculated as the sum of the time each task waits before its execution starts. Assume that only one task can be executed at a time.\n",
        "\n",
        "Example:\n",
        "\n",
        "Input: tasks = [(1, 3, 5), (2, 1, 2), (3, 2, 3)]\n",
        "Output: [1, 3, 2]\n",
        "\n",
        "Explanation:\n",
        "- Task 1 has the highest priority, so it's executed first. Total waiting time = 0\n",
        "- Task 3 has the next highest priority. Total waiting time = 5 (it waits for task 1 to complete)\n",
        "- Task 2 is executed last. Total waiting time = 5 + 3 = 8\n",
        "\n",
        "The total waiting time for this schedule is 0 + 5 + 8 = 13\n",
        "Hints:\n",
        "\n",
        "You can use a priority queue (min-heap or max-heap depending on your implementation) to efficiently keep track of the tasks based on their priority or remaining duration.\n",
        "Consider how you will handle ties in priority.\n",
        "Additional Considerations (for more advanced questions):\n",
        "\n",
        "What if tasks arrive dynamically over time?\n",
        "How would you handle preemption (interrupting a running task to execute a higher priority task)?\n",
        "This question effectively tests a candidate's understanding of priority queues, their ability to design algorithms, and their problem-solving skills.\n",
        "\n",
        "Feel free to ask if you would like a more specific solution or another coding question involving priority queues!"
      ],
      "metadata": {
        "id": "cmwpTKvSqQpG"
      }
    },
    {
      "cell_type": "code",
      "source": [
        "import heapq\n",
        "\n",
        "def schedule_tasks(tasks):\n",
        "    task_queue = [(-priority, task_id, duration) for task_id, priority, duration in tasks]\n",
        "    heapq.heapify(task_queue)\n",
        "\n",
        "    current_time = 0\n",
        "    execution_order = []\n",
        "    completed_tasks = {}  # To keep track of completed tasks and their completion times\n",
        "\n",
        "    while task_queue:\n",
        "        priority, task_id, duration = heapq.heappop(task_queue)\n",
        "\n",
        "        execution_order.append(task_id)\n",
        "        current_time += duration\n",
        "        completed_tasks[task_id] = current_time\n",
        "\n",
        "        # Update remaining durations only for tasks not yet completed\n",
        "        task_queue = [(p, tid, max(0, d - (current_time - completed_tasks.get(tid, 0))))\n",
        "                       for p, tid, d in task_queue if tid not in completed_tasks]\n",
        "        #task_queue = [(p, tid, d)\n",
        "                      #for p, tid, d in task_queue if tid not in completed_tasks]\n",
        "        heapq.heapify(task_queue)\n",
        "\n",
        "    return execution_order"
      ],
      "metadata": {
        "id": "K2M5yIxKqQ_y"
      },
      "execution_count": null,
      "outputs": []
    },
    {
      "cell_type": "code",
      "source": [
        "schedule_tasks( [(1, 3, 5), (2, 1, 2), (3, 2, 8)] )"
      ],
      "metadata": {
        "colab": {
          "base_uri": "https://localhost:8080/"
        },
        "id": "-hJSnPnAqgFC",
        "outputId": "6d62f820-aabf-4036-921f-35623c005b01"
      },
      "execution_count": null,
      "outputs": [
        {
          "output_type": "execute_result",
          "data": {
            "text/plain": [
              "[1, 3, 2]"
            ]
          },
          "metadata": {},
          "execution_count": 7
        }
      ]
    },
    {
      "cell_type": "markdown",
      "source": [
        "Task Scheduling\n",
        "You are given an array of CPU tasks tasks, where tasks[i] is an uppercase english character from A to Z. You are also given an integer n.\n",
        "\n",
        "Each CPU cycle allows the completion of a single task, and tasks may be completed in any order.\n",
        "\n",
        "The only constraint is that identical tasks must be separated by at least n CPU cycles, to cooldown the CPU.\n",
        "\n",
        "Return the minimum number of CPU cycles required to complete all tasks.\n",
        "\n",
        "Example 1:\n",
        "\n",
        "Input: tasks = [\"X\",\"X\",\"Y\",\"Y\"], n = 2\n",
        "\n",
        "Output: 5\n",
        "Explanation: A possible sequence is: X -> Y -> idle -> X -> Y.\n",
        "\n",
        "Example 2:\n",
        "\n",
        "Input: tasks = [\"A\",\"A\",\"A\",\"B\",\"C\"], n = 3\n",
        "\n",
        "Output: 9\n",
        "Explanation: A possible sequence is: A -> B -> C -> Idle -> A -> Idle -> Idle -> Idle -> A.\n",
        "\n",
        "Constraints:\n",
        "\n",
        "1 <= tasks.length <= 1000\n",
        "0 <= n <= 100\n"
      ],
      "metadata": {
        "id": "qqgeqh7YNjDg"
      }
    },
    {
      "cell_type": "code",
      "source": [
        "from collections import deque, Counter\n",
        "from heapq import heapify, heappush, heappop\n",
        "tasks = [\"A\",\"A\",\"A\",\"B\",\"C\",\"B\",\"C\"]\n",
        "n = 3\n",
        "\n",
        "cntr = Counter(tasks)\n",
        "print(cntr)\n",
        "max_heap = [-c for c in cntr.values()]\n",
        "heapify(max_heap)\n",
        "print(max_heap)\n",
        "time = 0\n",
        "q = deque()\n",
        "while max_heap or q:\n",
        "\n",
        "  if max_heap: # if there are values in max heap\n",
        "    task_count = heappop(max_heap) +1 # represents count of each task\n",
        "    time += 1 #Time for each task\n",
        "    if task_count: # add to queue only if task count is more than 0 (frequency of task)\n",
        "      q.append([task_count,time+n])\n",
        "\n",
        "  else :\n",
        "    time = q[0][1]\n",
        "\n",
        "\n",
        "  if q and q[0][1]==time:\n",
        "    tsk_cnt = q.popleft()[0]\n",
        "    heappush(max_heap,tsk_cnt)\n",
        "\n",
        "\n",
        "print(\"time\",time)\n",
        "\n",
        "# while maxHeap or q:\n",
        "#             time += 1\n",
        "\n",
        "#             if not maxHeap:\n",
        "#                 time = q[0][1]\n",
        "#             else:\n",
        "#                 cnt = 1 + heapq.heappop(maxHeap)\n",
        "#                 if cnt:\n",
        "#                     q.append([cnt, time + n])\n",
        "#             if q and q[0][1] == time:\n",
        "#                 heapq.heappush(maxHeap, q.popleft()[0])\n",
        "#         return time\n",
        "\n"
      ],
      "metadata": {
        "colab": {
          "base_uri": "https://localhost:8080/"
        },
        "id": "Qx4VsVbiNkBI",
        "outputId": "10834963-0589-4cd9-fbbe-e5a78e681e89"
      },
      "execution_count": null,
      "outputs": [
        {
          "output_type": "stream",
          "name": "stdout",
          "text": [
            "Counter({'A': 3, 'B': 2, 'C': 2})\n",
            "[-3, -2, -2]\n",
            "time 9\n"
          ]
        }
      ]
    }
  ]
}